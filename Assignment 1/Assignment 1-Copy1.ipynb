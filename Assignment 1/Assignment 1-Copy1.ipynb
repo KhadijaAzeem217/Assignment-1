{
 "cells": [
  {
   "cell_type": "code",
   "execution_count": null,
   "id": "1d4dbc8e-873c-422d-b518-8ec7d3edd2a4",
   "metadata": {},
   "outputs": [],
   "source": [
    "                                                     # Question 1"
   ]
  },
  {
   "cell_type": "code",
   "execution_count": 1,
   "id": "d040cdc8-fd50-4927-bdbe-b7ad9e1cdc5c",
   "metadata": {},
   "outputs": [],
   "source": [
    "#values\n",
    "a = 15\n",
    "b = 4"
   ]
  },
  {
   "cell_type": "code",
   "execution_count": 6,
   "id": "bcc42a13-f0d9-42e4-9d2d-0b77c8ba2f89",
   "metadata": {},
   "outputs": [
    {
     "data": {
      "text/plain": [
       "19"
      ]
     },
     "execution_count": 6,
     "metadata": {},
     "output_type": "execute_result"
    }
   ],
   "source": [
    "#sum  \n",
    "a + b   "
   ]
  },
  {
   "cell_type": "code",
   "execution_count": 8,
   "id": "70438366-2432-404b-a0ea-0eb7f7472158",
   "metadata": {},
   "outputs": [
    {
     "data": {
      "text/plain": [
       "11"
      ]
     },
     "execution_count": 8,
     "metadata": {},
     "output_type": "execute_result"
    }
   ],
   "source": [
    "#Subtract\n",
    "a - b \n"
   ]
  },
  {
   "cell_type": "code",
   "execution_count": 10,
   "id": "f6e17668-ece0-4a56-8969-1d2f93140906",
   "metadata": {},
   "outputs": [
    {
     "data": {
      "text/plain": [
       "60"
      ]
     },
     "execution_count": 10,
     "metadata": {},
     "output_type": "execute_result"
    }
   ],
   "source": [
    "#multiple\n",
    "a * b \n"
   ]
  },
  {
   "cell_type": "code",
   "execution_count": 12,
   "id": "0626cfe9-912c-4187-b964-fa7b6d7a91c0",
   "metadata": {},
   "outputs": [
    {
     "data": {
      "text/plain": [
       "3.75"
      ]
     },
     "execution_count": 12,
     "metadata": {},
     "output_type": "execute_result"
    }
   ],
   "source": [
    "#division\n",
    "a / b  \n"
   ]
  },
  {
   "cell_type": "code",
   "execution_count": 14,
   "id": "442042ef-be7a-4630-be03-b24b4427c119",
   "metadata": {},
   "outputs": [
    {
     "data": {
      "text/plain": [
       "3.75"
      ]
     },
     "execution_count": 14,
     "metadata": {},
     "output_type": "execute_result"
    }
   ],
   "source": [
    "#Floor Division\n",
    "a / b  \n"
   ]
  },
  {
   "cell_type": "code",
   "execution_count": 16,
   "id": "d23ea651-02f8-430e-addb-afd2bdac9933",
   "metadata": {},
   "outputs": [
    {
     "data": {
      "text/plain": [
       "3"
      ]
     },
     "execution_count": 16,
     "metadata": {},
     "output_type": "execute_result"
    }
   ],
   "source": [
    "# Modulus\n",
    "a % b"
   ]
  },
  {
   "cell_type": "code",
   "execution_count": null,
   "id": "ceaaa12c-38e6-472a-81cb-a1749e3b450a",
   "metadata": {},
   "outputs": [],
   "source": [
    "                                     # Question 2  (Type Conversions)"
   ]
  },
  {
   "cell_type": "code",
   "execution_count": 18,
   "id": "3c24d4cd-a027-4b27-9957-9c309ffb98d6",
   "metadata": {},
   "outputs": [],
   "source": [
    "#values\n",
    "num1 = 10\n",
    "num2 = 5.6\n",
    "num3 = 4.43"
   ]
  },
  {
   "cell_type": "code",
   "execution_count": 20,
   "id": "72505937-28f8-4109-a9bc-649a93ef54b7",
   "metadata": {},
   "outputs": [
    {
     "data": {
      "text/plain": [
       "10.0"
      ]
     },
     "execution_count": 20,
     "metadata": {},
     "output_type": "execute_result"
    }
   ],
   "source": [
    "# Integer to float\n",
    "float_num1 = float(num1)\n",
    "float_num1"
   ]
  },
  {
   "cell_type": "code",
   "execution_count": 22,
   "id": "eda72a9e-6d02-42d5-98a0-5242ac9c5299",
   "metadata": {},
   "outputs": [
    {
     "data": {
      "text/plain": [
       "5"
      ]
     },
     "execution_count": 22,
     "metadata": {},
     "output_type": "execute_result"
    }
   ],
   "source": [
    "# Float to integer\n",
    "int_num2 = int(num2)\n",
    "int_num2"
   ]
  },
  {
   "cell_type": "code",
   "execution_count": 24,
   "id": "c7c0b574-f1bd-4a29-a588-1b0137050ec2",
   "metadata": {},
   "outputs": [
    {
     "data": {
      "text/plain": [
       "'4.43'"
      ]
     },
     "execution_count": 24,
     "metadata": {},
     "output_type": "execute_result"
    }
   ],
   "source": [
    "# Float to String\n",
    "str_num3 = str(num3)\n",
    "str_num3"
   ]
  },
  {
   "cell_type": "code",
   "execution_count": null,
   "id": "8d937d42-ebc4-4869-b653-fc91cdb7e37a",
   "metadata": {},
   "outputs": [],
   "source": [
    "                                       # Question 3  (List Indexing)"
   ]
  },
  {
   "cell_type": "code",
   "execution_count": 26,
   "id": "9f67a8b0-451b-421f-b88c-14f3162788cd",
   "metadata": {},
   "outputs": [
    {
     "data": {
      "text/plain": [
       "'apple'"
      ]
     },
     "execution_count": 26,
     "metadata": {},
     "output_type": "execute_result"
    }
   ],
   "source": [
    "\n",
    "fruits = [\"apple\", \"banana\", \"cherry\", \"coconut\", \"pineapple\", \"mango\", \"orange\"]\n",
    "\n",
    "# First fruit\n",
    "fruits[0]"
   ]
  },
  {
   "cell_type": "code",
   "execution_count": 28,
   "id": "ce64bc8c-4aaf-45b4-8ecd-a083ffeab1a0",
   "metadata": {},
   "outputs": [
    {
     "data": {
      "text/plain": [
       "'orange'"
      ]
     },
     "execution_count": 28,
     "metadata": {},
     "output_type": "execute_result"
    }
   ],
   "source": [
    "# Last fruit (negative indexing)\n",
    "fruits[-1]"
   ]
  },
  {
   "cell_type": "code",
   "execution_count": 30,
   "id": "24dd1036-7df4-41cd-9e73-f5e358c5aefa",
   "metadata": {},
   "outputs": [
    {
     "data": {
      "text/plain": [
       "'coconut'"
      ]
     },
     "execution_count": 30,
     "metadata": {},
     "output_type": "execute_result"
    }
   ],
   "source": [
    "# Fourth fruit\n",
    "fruits[3]"
   ]
  },
  {
   "cell_type": "code",
   "execution_count": null,
   "id": "7c5546fc-56f8-4d0d-bf0d-6ae0e87a16a1",
   "metadata": {},
   "outputs": [],
   "source": [
    "                                    # Question 4  (List Slicing)\n"
   ]
  },
  {
   "cell_type": "code",
   "execution_count": 32,
   "id": "d96bfd42-b791-47aa-b552-71023e99c083",
   "metadata": {},
   "outputs": [
    {
     "data": {
      "text/plain": [
       "[10, 20, 30]"
      ]
     },
     "execution_count": 32,
     "metadata": {},
     "output_type": "execute_result"
    }
   ],
   "source": [
    "numbers = [10, 20, 30, 40, 50]\n",
    "\n",
    "# First three elements\n",
    "numbers[:3]"
   ]
  },
  {
   "cell_type": "code",
   "execution_count": 34,
   "id": "02f3fee8-6d0a-448f-9839-aa28590073d1",
   "metadata": {},
   "outputs": [
    {
     "data": {
      "text/plain": [
       "[40, 50]"
      ]
     },
     "execution_count": 34,
     "metadata": {},
     "output_type": "execute_result"
    }
   ],
   "source": [
    "# Last two elements\n",
    "numbers[-2:]"
   ]
  },
  {
   "cell_type": "code",
   "execution_count": 36,
   "id": "b2c65e87-c2c3-417c-a7c8-22db02bb5ce6",
   "metadata": {},
   "outputs": [
    {
     "data": {
      "text/plain": [
       "[20, 30, 40, 50]"
      ]
     },
     "execution_count": 36,
     "metadata": {},
     "output_type": "execute_result"
    }
   ],
   "source": [
    "# All elements except the first one\n",
    "numbers[1:]\n"
   ]
  },
  {
   "cell_type": "code",
   "execution_count": 38,
   "id": "4b401002-f98e-4afd-8033-c5206fb92050",
   "metadata": {},
   "outputs": [
    {
     "data": {
      "text/plain": [
       "[10, 20, 30, 40]"
      ]
     },
     "execution_count": 38,
     "metadata": {},
     "output_type": "execute_result"
    }
   ],
   "source": [
    "# All elements except the last one\n",
    "numbers[:-1]"
   ]
  },
  {
   "cell_type": "code",
   "execution_count": 40,
   "id": "177bc0fd-4030-441d-b71f-dbb578fb4a4c",
   "metadata": {},
   "outputs": [
    {
     "data": {
      "text/plain": [
       "[50, 40, 30, 20, 10]"
      ]
     },
     "execution_count": 40,
     "metadata": {},
     "output_type": "execute_result"
    }
   ],
   "source": [
    "# Reverse list using slicing\n",
    "numbers[::-1]"
   ]
  },
  {
   "cell_type": "code",
   "execution_count": 42,
   "id": "3188fad7-4a1c-4c39-a3d1-37c29126ec85",
   "metadata": {},
   "outputs": [
    {
     "data": {
      "text/plain": [
       "[10, 30, 50]"
      ]
     },
     "execution_count": 42,
     "metadata": {},
     "output_type": "execute_result"
    }
   ],
   "source": [
    "# Every second element\n",
    "numbers[::2]"
   ]
  },
  {
   "cell_type": "code",
   "execution_count": 44,
   "id": "08e43e6c-40fc-47ac-be5e-a43e74fc33e3",
   "metadata": {},
   "outputs": [],
   "source": [
    "                                                 # Question 5 "
   ]
  },
  {
   "cell_type": "code",
   "execution_count": 46,
   "id": "cf77c22b-e0db-4ed3-b69b-5d8c4b92e1d4",
   "metadata": {},
   "outputs": [
    {
     "data": {
      "text/plain": [
       "[1, 2, 3, 10]"
      ]
     },
     "execution_count": 46,
     "metadata": {},
     "output_type": "execute_result"
    }
   ],
   "source": [
    "nums = [1, 2, 3]\n",
    "nums.append(10)\n",
    "nums"
   ]
  },
  {
   "cell_type": "code",
   "execution_count": null,
   "id": "07046cfb-02fb-4dcc-822b-02f75eabaa82",
   "metadata": {},
   "outputs": [],
   "source": [
    "                                                 # Question 6"
   ]
  },
  {
   "cell_type": "code",
   "execution_count": 48,
   "id": "505d10e3-5590-4856-bb23-59aba30cc699",
   "metadata": {},
   "outputs": [
    {
     "data": {
      "text/plain": [
       "[1, 99, 2, 3]"
      ]
     },
     "execution_count": 48,
     "metadata": {},
     "output_type": "execute_result"
    }
   ],
   "source": [
    "nums = [1, 2, 3]\n",
    "nums.insert(1, 99)\n",
    "nums"
   ]
  },
  {
   "cell_type": "code",
   "execution_count": 50,
   "id": "7cd9330f-e490-4db6-9c3e-ea88147df06e",
   "metadata": {},
   "outputs": [],
   "source": [
    "                                                # Question 7"
   ]
  },
  {
   "cell_type": "code",
   "execution_count": 52,
   "id": "a5e57c29-87d4-4a48-bd4b-60da05839f2d",
   "metadata": {},
   "outputs": [
    {
     "data": {
      "text/plain": [
       "[1, 2, 3, 4, 5]"
      ]
     },
     "execution_count": 52,
     "metadata": {},
     "output_type": "execute_result"
    }
   ],
   "source": [
    "nums = [1, 2, 3]\n",
    "nums.extend([4, 5])\n",
    "nums"
   ]
  },
  {
   "cell_type": "code",
   "execution_count": 54,
   "id": "def316fe-8e7d-46d2-b552-d9b1986c28ef",
   "metadata": {},
   "outputs": [],
   "source": [
    "                                              # Question 8"
   ]
  },
  {
   "cell_type": "code",
   "execution_count": 56,
   "id": "c4455688-ccd6-4e1f-a921-ce5ed836f316",
   "metadata": {},
   "outputs": [
    {
     "data": {
      "text/plain": [
       "[1, 2, 3, 4]"
      ]
     },
     "execution_count": 56,
     "metadata": {},
     "output_type": "execute_result"
    }
   ],
   "source": [
    "nums = [4, 1, 3, 2]\n",
    "nums.sort()\n",
    "nums"
   ]
  },
  {
   "cell_type": "code",
   "execution_count": 58,
   "id": "ae9bf423-923f-4d7c-98de-90f9f6eee679",
   "metadata": {},
   "outputs": [],
   "source": [
    "                                             # Question 9 Customer Order"
   ]
  },
  {
   "cell_type": "code",
   "execution_count": 60,
   "id": "1cc653bc-ecca-44d0-8924-d531d0b5ff30",
   "metadata": {},
   "outputs": [],
   "source": [
    "order = [\"burger\", \"fries\", \"coke\"]\n",
    "order.append(\"ice cream\")\n"
   ]
  },
  {
   "cell_type": "code",
   "execution_count": 62,
   "id": "79a883ee-ec22-4044-9413-74e2811035c1",
   "metadata": {},
   "outputs": [
    {
     "data": {
      "text/plain": [
       "['burger', 'fries', 'coke', 'ice cream']"
      ]
     },
     "execution_count": 62,
     "metadata": {},
     "output_type": "execute_result"
    }
   ],
   "source": [
    "order"
   ]
  },
  {
   "cell_type": "code",
   "execution_count": 68,
   "id": "e378a504-12e5-41f3-8ae5-1fff91bfc0c8",
   "metadata": {},
   "outputs": [],
   "source": [
    "order.remove(\"coke\")"
   ]
  },
  {
   "cell_type": "code",
   "execution_count": 70,
   "id": "0a62fb20-fee0-48b8-802d-d88ece5aaaa2",
   "metadata": {},
   "outputs": [
    {
     "data": {
      "text/plain": [
       "['burger', 'fries', 'ice cream']"
      ]
     },
     "execution_count": 70,
     "metadata": {},
     "output_type": "execute_result"
    }
   ],
   "source": [
    "order"
   ]
  },
  {
   "cell_type": "code",
   "execution_count": 72,
   "id": "adff38c8-4e90-4721-ae3e-9998db508595",
   "metadata": {},
   "outputs": [],
   "source": [
    "                                         # Question 10 Bus Passengers"
   ]
  },
  {
   "cell_type": "code",
   "execution_count": 87,
   "id": "0421a471-ac73-471d-a6ff-1d3baa7f8a56",
   "metadata": {},
   "outputs": [],
   "source": [
    "passengers = [\"Ali\", \"Zara\", \"Ahmed\"]\n",
    "passengers.insert(2, \"Sara\")"
   ]
  },
  {
   "cell_type": "code",
   "execution_count": 89,
   "id": "a74a849c-00c3-45b7-bf4f-04bc4e66a212",
   "metadata": {},
   "outputs": [
    {
     "data": {
      "text/plain": [
       "['Ali', 'Zara', 'Sara', 'Ahmed']"
      ]
     },
     "execution_count": 89,
     "metadata": {},
     "output_type": "execute_result"
    }
   ],
   "source": [
    "passengers"
   ]
  },
  {
   "cell_type": "code",
   "execution_count": 91,
   "id": "cddc1be1-c1b5-4aa0-98bb-3311d7e358a4",
   "metadata": {},
   "outputs": [],
   "source": [
    "passengers.remove(\"Zara\")"
   ]
  },
  {
   "cell_type": "code",
   "execution_count": 93,
   "id": "6958ca5b-27f9-4f5e-a148-de4dff2bb46b",
   "metadata": {},
   "outputs": [
    {
     "data": {
      "text/plain": [
       "['Ali', 'Sara', 'Ahmed']"
      ]
     },
     "execution_count": 93,
     "metadata": {},
     "output_type": "execute_result"
    }
   ],
   "source": [
    "passengers"
   ]
  },
  {
   "cell_type": "code",
   "execution_count": 95,
   "id": "d88da41a-d8fa-456a-af4c-5d2541183378",
   "metadata": {},
   "outputs": [
    {
     "data": {
      "text/plain": [
       "['Ahmed', 'Sara', 'Ali']"
      ]
     },
     "execution_count": 95,
     "metadata": {},
     "output_type": "execute_result"
    }
   ],
   "source": [
    "passengers.reverse()\n",
    "passengers"
   ]
  },
  {
   "cell_type": "code",
   "execution_count": null,
   "id": "323974ca-fb2d-4aca-af72-0cba7fbfb851",
   "metadata": {},
   "outputs": [],
   "source": []
  }
 ],
 "metadata": {
  "kernelspec": {
   "display_name": "Python [conda env:base] *",
   "language": "python",
   "name": "conda-base-py"
  },
  "language_info": {
   "codemirror_mode": {
    "name": "ipython",
    "version": 3
   },
   "file_extension": ".py",
   "mimetype": "text/x-python",
   "name": "python",
   "nbconvert_exporter": "python",
   "pygments_lexer": "ipython3",
   "version": "3.12.7"
  }
 },
 "nbformat": 4,
 "nbformat_minor": 5
}
